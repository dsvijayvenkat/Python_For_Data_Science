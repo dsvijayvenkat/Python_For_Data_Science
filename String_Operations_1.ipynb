{
 "cells": [
  {
   "cell_type": "markdown",
   "id": "d3fc559d",
   "metadata": {},
   "source": [
    "### String_Operations_1"
   ]
  },
  {
   "cell_type": "markdown",
   "id": "8fd1154d",
   "metadata": {},
   "source": [
    "##### By : Venkatesh"
   ]
  },
  {
   "cell_type": "markdown",
   "id": "073858b8",
   "metadata": {},
   "source": [
    "#### String ASCII Letters"
   ]
  },
  {
   "cell_type": "code",
   "execution_count": 1,
   "id": "0838ece6",
   "metadata": {},
   "outputs": [
    {
     "name": "stdout",
     "output_type": "stream",
     "text": [
      "abcdefghijklmnopqrstuvwxyzABCDEFGHIJKLMNOPQRSTUVWXYZ\n"
     ]
    }
   ],
   "source": [
    "import string\n",
    "\n",
    "letters = string.ascii_letters\n",
    "\n",
    "print(letters)"
   ]
  },
  {
   "cell_type": "markdown",
   "id": "02538bea",
   "metadata": {},
   "source": [
    "#### String ASCII Lower Case"
   ]
  },
  {
   "cell_type": "code",
   "execution_count": 2,
   "id": "168abaf8",
   "metadata": {},
   "outputs": [
    {
     "name": "stdout",
     "output_type": "stream",
     "text": [
      "abcdefghijklmnopqrstuvwxyz\n"
     ]
    }
   ],
   "source": [
    "letters1 = string.ascii_lowercase\n",
    "print(letters1)"
   ]
  },
  {
   "cell_type": "markdown",
   "id": "2ab08eb3",
   "metadata": {},
   "source": [
    "#### String ASCII Upper Case"
   ]
  },
  {
   "cell_type": "code",
   "execution_count": 3,
   "id": "eca6ef6c",
   "metadata": {},
   "outputs": [
    {
     "name": "stdout",
     "output_type": "stream",
     "text": [
      "ABCDEFGHIJKLMNOPQRSTUVWXYZ\n"
     ]
    }
   ],
   "source": [
    "letters2 = string.ascii_uppercase\n",
    "print(letters2)"
   ]
  },
  {
   "cell_type": "markdown",
   "id": "e4c94e62",
   "metadata": {},
   "source": [
    "#### Digits"
   ]
  },
  {
   "cell_type": "code",
   "execution_count": 4,
   "id": "a5014dfc",
   "metadata": {},
   "outputs": [
    {
     "name": "stdout",
     "output_type": "stream",
     "text": [
      "0123456789\n"
     ]
    }
   ],
   "source": [
    "digits = string.digits\n",
    "print(digits)"
   ]
  },
  {
   "cell_type": "markdown",
   "id": "2cfd1aa2",
   "metadata": {},
   "source": [
    "#### Hexdigits"
   ]
  },
  {
   "cell_type": "code",
   "execution_count": 5,
   "id": "f2c91a30",
   "metadata": {},
   "outputs": [
    {
     "name": "stdout",
     "output_type": "stream",
     "text": [
      "0123456789abcdefABCDEF\n"
     ]
    }
   ],
   "source": [
    "hex_digits = string.hexdigits\n",
    "print(hex_digits)"
   ]
  },
  {
   "cell_type": "markdown",
   "id": "87cc02eb",
   "metadata": {},
   "source": [
    "#### Octdigits"
   ]
  },
  {
   "cell_type": "code",
   "execution_count": 6,
   "id": "9289880a",
   "metadata": {},
   "outputs": [
    {
     "name": "stdout",
     "output_type": "stream",
     "text": [
      "01234567\n"
     ]
    }
   ],
   "source": [
    "oct_digits = string.octdigits\n",
    "print(oct_digits)"
   ]
  },
  {
   "cell_type": "markdown",
   "id": "1d060af7",
   "metadata": {},
   "source": [
    "#### Punctuations"
   ]
  },
  {
   "cell_type": "code",
   "execution_count": 7,
   "id": "41d33752",
   "metadata": {},
   "outputs": [
    {
     "name": "stdout",
     "output_type": "stream",
     "text": [
      "!\"#$%&'()*+,-./:;<=>?@[\\]^_`{|}~\n"
     ]
    }
   ],
   "source": [
    "punct = string.punctuation\n",
    "print(punct)"
   ]
  },
  {
   "cell_type": "markdown",
   "id": "dc531aad",
   "metadata": {},
   "source": [
    "#### Printable"
   ]
  },
  {
   "cell_type": "code",
   "execution_count": 8,
   "id": "e6593be0",
   "metadata": {},
   "outputs": [
    {
     "name": "stdout",
     "output_type": "stream",
     "text": [
      "0123456789abcdefghijklmnopqrstuvwxyzABCDEFGHIJKLMNOPQRSTUVWXYZ!\"#$%&'()*+,-./:;<=>?@[\\]^_`{|}~ \t\n",
      "\u000b",
      "\f",
      "\n"
     ]
    }
   ],
   "source": [
    "printable = string.printable\n",
    "print(printable)"
   ]
  },
  {
   "cell_type": "markdown",
   "id": "700f7580",
   "metadata": {},
   "source": [
    "#### White Space"
   ]
  },
  {
   "cell_type": "code",
   "execution_count": 9,
   "id": "df70556c",
   "metadata": {},
   "outputs": [
    {
     "name": "stdout",
     "output_type": "stream",
     "text": [
      " \t\n",
      "\u000b",
      "\f",
      "\n"
     ]
    }
   ],
   "source": [
    "white_space = string.whitespace\n",
    "print(white_space)"
   ]
  },
  {
   "cell_type": "markdown",
   "id": "3724d805",
   "metadata": {},
   "source": [
    "### Printing all the Values Using For_Loop"
   ]
  },
  {
   "cell_type": "code",
   "execution_count": 15,
   "id": "a1728651",
   "metadata": {},
   "outputs": [
    {
     "name": "stdout",
     "output_type": "stream",
     "text": [
      "letters: abcdefghijklmnopqrstuvwxyzABCDEFGHIJKLMNOPQRSTUVWXYZ\n",
      "letters1: abcdefghijklmnopqrstuvwxyz\n",
      "letters2: ABCDEFGHIJKLMNOPQRSTUVWXYZ\n",
      "digits: 0123456789\n",
      "hex_digits: 0123456789abcdefABCDEF\n",
      "oct_digits: 01234567\n",
      "punct: !\"#$%&'()*+,-./:;<=>?@[\\]^_`{|}~\n",
      "printable: 0123456789abcdefghijklmnopqrstuvwxyzABCDEFGHIJKLMNOPQRSTUVWXYZ!\"#$%&'()*+,-./:;<=>?@[\\]^_`{|}~ \t\n",
      "\u000b",
      "\f",
      "\n",
      "white_space:  \t\n",
      "\u000b",
      "\f",
      "\n"
     ]
    }
   ],
   "source": [
    "import string\n",
    "\n",
    "letters = string.ascii_letters\n",
    "letters1 = string.ascii_lowercase\n",
    "letters2 = string.ascii_uppercase\n",
    "digits = string.digits\n",
    "hex_digits = string.hexdigits\n",
    "oct_digits = string.octdigits\n",
    "punct = string.punctuation\n",
    "printable = string.printable\n",
    "white_space = string.whitespace\n",
    "\n",
    "# Store the variable names in a list\n",
    "variables = ['letters', 'letters1', 'letters2', 'digits', 'hex_digits', 'oct_digits', 'punct', 'printable', 'white_space']\n",
    "\n",
    "# Iterate over the list and print the values\n",
    "for var_name in variables:\n",
    "    value = globals()[var_name]\n",
    "    print(f\"{var_name}: {value}\")"
   ]
  },
  {
   "cell_type": "markdown",
   "id": "32b6339e",
   "metadata": {},
   "source": [
    "### Using_While_Loop"
   ]
  },
  {
   "cell_type": "code",
   "execution_count": 16,
   "id": "18ba373d",
   "metadata": {},
   "outputs": [
    {
     "name": "stdout",
     "output_type": "stream",
     "text": [
      "letters: abcdefghijklmnopqrstuvwxyzABCDEFGHIJKLMNOPQRSTUVWXYZ\n",
      "letters1: abcdefghijklmnopqrstuvwxyz\n",
      "letters2: ABCDEFGHIJKLMNOPQRSTUVWXYZ\n",
      "digits: 0123456789\n",
      "hex_digits: 0123456789abcdefABCDEF\n",
      "oct_digits: 01234567\n",
      "punct: !\"#$%&'()*+,-./:;<=>?@[\\]^_`{|}~\n",
      "printable: 0123456789abcdefghijklmnopqrstuvwxyzABCDEFGHIJKLMNOPQRSTUVWXYZ!\"#$%&'()*+,-./:;<=>?@[\\]^_`{|}~ \t\n",
      "\u000b",
      "\f",
      "\n",
      "white_space:  \t\n",
      "\u000b",
      "\f",
      "\n"
     ]
    }
   ],
   "source": [
    "import string\n",
    "\n",
    "variables = [\n",
    "    ('letters', string.ascii_letters),\n",
    "    ('letters1', string.ascii_lowercase),\n",
    "    ('letters2', string.ascii_uppercase),\n",
    "    ('digits', string.digits),\n",
    "    ('hex_digits', string.hexdigits),\n",
    "    ('oct_digits', string.octdigits),\n",
    "    ('punct', string.punctuation),\n",
    "    ('printable', string.printable),\n",
    "    ('white_space', string.whitespace)\n",
    "]\n",
    "\n",
    "index = 0\n",
    "while index < len(variables):\n",
    "    var_name, var_value = variables[index]\n",
    "    print(f\"{var_name}: {var_value}\")\n",
    "    index += 1"
   ]
  },
  {
   "cell_type": "markdown",
   "id": "04ef4023",
   "metadata": {},
   "source": [
    "### Using List Comprehension"
   ]
  },
  {
   "cell_type": "code",
   "execution_count": 17,
   "id": "6a0e672f",
   "metadata": {},
   "outputs": [
    {
     "name": "stdout",
     "output_type": "stream",
     "text": [
      "letters: abcdefghijklmnopqrstuvwxyzABCDEFGHIJKLMNOPQRSTUVWXYZ\n",
      "letters1: abcdefghijklmnopqrstuvwxyz\n",
      "letters2: ABCDEFGHIJKLMNOPQRSTUVWXYZ\n",
      "digits: 0123456789\n",
      "hex_digits: 0123456789abcdefABCDEF\n",
      "oct_digits: 01234567\n",
      "punct: !\"#$%&'()*+,-./:;<=>?@[\\]^_`{|}~\n",
      "printable: 0123456789abcdefghijklmnopqrstuvwxyzABCDEFGHIJKLMNOPQRSTUVWXYZ!\"#$%&'()*+,-./:;<=>?@[\\]^_`{|}~ \t\n",
      "\u000b",
      "\f",
      "\n",
      "white_space:  \t\n",
      "\u000b",
      "\f",
      "\n"
     ]
    },
    {
     "data": {
      "text/plain": [
       "[None, None, None, None, None, None, None, None, None]"
      ]
     },
     "execution_count": 17,
     "metadata": {},
     "output_type": "execute_result"
    }
   ],
   "source": [
    "import string\n",
    "\n",
    "variables = [\n",
    "    ('letters', string.ascii_letters),\n",
    "    ('letters1', string.ascii_lowercase),\n",
    "    ('letters2', string.ascii_uppercase),\n",
    "    ('digits', string.digits),\n",
    "    ('hex_digits', string.hexdigits),\n",
    "    ('oct_digits', string.octdigits),\n",
    "    ('punct', string.punctuation),\n",
    "    ('printable', string.printable),\n",
    "    ('white_space', string.whitespace)\n",
    "]\n",
    "\n",
    "[print(f\"{var_name}: {var_value}\") for var_name, var_value in variables]"
   ]
  },
  {
   "cell_type": "markdown",
   "id": "d5e97cad",
   "metadata": {},
   "source": [
    "### Using Lambda Function"
   ]
  },
  {
   "cell_type": "code",
   "execution_count": 18,
   "id": "255492fc",
   "metadata": {},
   "outputs": [
    {
     "name": "stdout",
     "output_type": "stream",
     "text": [
      "abcdefghijklmnopqrstuvwxyzABCDEFGHIJKLMNOPQRSTUVWXYZ\n",
      "abcdefghijklmnopqrstuvwxyz\n",
      "ABCDEFGHIJKLMNOPQRSTUVWXYZ\n",
      "0123456789\n",
      "0123456789abcdefABCDEF\n",
      "01234567\n",
      "!\"#$%&'()*+,-./:;<=>?@[\\]^_`{|}~\n",
      "0123456789abcdefghijklmnopqrstuvwxyzABCDEFGHIJKLMNOPQRSTUVWXYZ!\"#$%&'()*+,-./:;<=>?@[\\]^_`{|}~ \t\n",
      "\u000b",
      "\f",
      "\n",
      " \t\n",
      "\u000b",
      "\f",
      "\n"
     ]
    }
   ],
   "source": [
    "import string\n",
    "\n",
    "letters_func = lambda: string.ascii_letters\n",
    "letters_lower_func = lambda: string.ascii_lowercase\n",
    "letters_upper_func = lambda: string.ascii_uppercase\n",
    "digits_func = lambda: string.digits\n",
    "hex_digits_func = lambda: string.hexdigits\n",
    "oct_digits_func = lambda: string.octdigits\n",
    "punct_func = lambda: string.punctuation\n",
    "printable_func = lambda: string.printable\n",
    "white_space_func = lambda: string.whitespace\n",
    "\n",
    "# Call the lambda functions to get the string values\n",
    "print(letters_func())\n",
    "print(letters_lower_func())\n",
    "print(letters_upper_func())\n",
    "print(digits_func())\n",
    "print(hex_digits_func())\n",
    "print(oct_digits_func())\n",
    "print(punct_func())\n",
    "print(printable_func())\n",
    "print(white_space_func())"
   ]
  },
  {
   "cell_type": "markdown",
   "id": "c42cc9cd",
   "metadata": {},
   "source": [
    "### Defining all the above in Single User define function"
   ]
  },
  {
   "cell_type": "code",
   "execution_count": 10,
   "id": "4f4fa071",
   "metadata": {},
   "outputs": [],
   "source": [
    "def String_functions(**kwargs):\n",
    "    letters = string.ascii_letters\n",
    "    letters1 = string.ascii_lowercase\n",
    "    letters2 = string.ascii_uppercase\n",
    "    digits = string.digits\n",
    "    hex_digits = string.hexdigits\n",
    "    oct_digits = string.octdigits\n",
    "    punct = string.punctuation\n",
    "    printable = string.printable\n",
    "    white_space = string.whitespace\n",
    "    return letters, letters1, letters2, digits, hex_digits, oct_digits, punct, printable, white_space"
   ]
  },
  {
   "cell_type": "code",
   "execution_count": 11,
   "id": "beef56b3",
   "metadata": {},
   "outputs": [
    {
     "data": {
      "text/plain": [
       "('abcdefghijklmnopqrstuvwxyzABCDEFGHIJKLMNOPQRSTUVWXYZ',\n",
       " 'abcdefghijklmnopqrstuvwxyz',\n",
       " 'ABCDEFGHIJKLMNOPQRSTUVWXYZ',\n",
       " '0123456789',\n",
       " '0123456789abcdefABCDEF',\n",
       " '01234567',\n",
       " '!\"#$%&\\'()*+,-./:;<=>?@[\\\\]^_`{|}~',\n",
       " '0123456789abcdefghijklmnopqrstuvwxyzABCDEFGHIJKLMNOPQRSTUVWXYZ!\"#$%&\\'()*+,-./:;<=>?@[\\\\]^_`{|}~ \\t\\n\\r\\x0b\\x0c',\n",
       " ' \\t\\n\\r\\x0b\\x0c')"
      ]
     },
     "execution_count": 11,
     "metadata": {},
     "output_type": "execute_result"
    }
   ],
   "source": [
    "String_functions()"
   ]
  },
  {
   "cell_type": "markdown",
   "id": "adfdfd2c",
   "metadata": {},
   "source": [
    "### Defining All the above in OOP concept_Encapsulation"
   ]
  },
  {
   "cell_type": "code",
   "execution_count": 12,
   "id": "0d5804c0",
   "metadata": {},
   "outputs": [
    {
     "name": "stdout",
     "output_type": "stream",
     "text": [
      "abcdefghijklmnopqrstuvwxyzABCDEFGHIJKLMNOPQRSTUVWXYZ\n",
      "abcdefghijklmnopqrstuvwxyz\n",
      "ABCDEFGHIJKLMNOPQRSTUVWXYZ\n",
      "0123456789\n",
      "0123456789abcdefABCDEF\n",
      "01234567\n",
      "!\"#$%&'()*+,-./:;<=>?@[\\]^_`{|}~\n",
      "0123456789abcdefghijklmnopqrstuvwxyzABCDEFGHIJKLMNOPQRSTUVWXYZ!\"#$%&'()*+,-./:;<=>?@[\\]^_`{|}~ \t\n",
      "\u000b",
      "\f",
      "\n",
      " \t\n",
      "\u000b",
      "\f",
      "\n"
     ]
    }
   ],
   "source": [
    "class StringFunctions:\n",
    "    def __init__(self):\n",
    "        self.letters = string.ascii_letters\n",
    "        self.letters1 = string.ascii_lowercase\n",
    "        self.letters2 = string.ascii_uppercase\n",
    "        self.digits = string.digits\n",
    "        self.hex_digits = string.hexdigits\n",
    "        self.oct_digits = string.octdigits\n",
    "        self.punct = string.punctuation\n",
    "        self.printable = string.printable\n",
    "        self.white_space = string.whitespace\n",
    "\n",
    "# Create an instance of the StringFunctions class\n",
    "sf = StringFunctions()\n",
    "\n",
    "# Access the attributes of the instance\n",
    "print(sf.letters)\n",
    "print(sf.letters1)\n",
    "print(sf.letters2)\n",
    "print(sf.digits)\n",
    "print(sf.hex_digits)\n",
    "print(sf.oct_digits)\n",
    "print(sf.punct)\n",
    "print(sf.printable)\n",
    "print(sf.white_space)"
   ]
  },
  {
   "cell_type": "markdown",
   "id": "dabc12ec",
   "metadata": {},
   "source": [
    "### Using Polymorphism"
   ]
  },
  {
   "cell_type": "code",
   "execution_count": 13,
   "id": "d13dba1c",
   "metadata": {},
   "outputs": [
    {
     "name": "stdout",
     "output_type": "stream",
     "text": [
      "abcdefghijklmnopqrstuvwxyzABCDEFGHIJKLMNOPQRSTUVWXYZ\n",
      "abcdefghijklmnopqrstuvwxyz\n",
      "ABCDEFGHIJKLMNOPQRSTUVWXYZ\n",
      "0123456789\n",
      "0123456789abcdefABCDEF\n",
      "01234567\n",
      "!\"#$%&'()*+,-./:;<=>?@[\\]^_`{|}~\n",
      "0123456789abcdefghijklmnopqrstuvwxyzABCDEFGHIJKLMNOPQRSTUVWXYZ!\"#$%&'()*+,-./:;<=>?@[\\]^_`{|}~ \t\n",
      "\u000b",
      "\f",
      "\n",
      " \t\n",
      "\u000b",
      "\f",
      "\n"
     ]
    }
   ],
   "source": [
    "import string\n",
    "\n",
    "class StringFunction:\n",
    "    def get_string(self):\n",
    "        pass\n",
    "\n",
    "class LettersFunction(StringFunction):\n",
    "    def get_string(self):\n",
    "        return string.ascii_letters\n",
    "\n",
    "class LettersLowerCaseFunction(StringFunction):\n",
    "    def get_string(self):\n",
    "        return string.ascii_lowercase\n",
    "\n",
    "class LettersUpperCaseFunction(StringFunction):\n",
    "    def get_string(self):\n",
    "        return string.ascii_uppercase\n",
    "\n",
    "class DigitsFunction(StringFunction):\n",
    "    def get_string(self):\n",
    "        return string.digits\n",
    "\n",
    "class HexDigitsFunction(StringFunction):\n",
    "    def get_string(self):\n",
    "        return string.hexdigits\n",
    "\n",
    "class OctDigitsFunction(StringFunction):\n",
    "    def get_string(self):\n",
    "        return string.octdigits\n",
    "\n",
    "class PunctuationFunction(StringFunction):\n",
    "    def get_string(self):\n",
    "        return string.punctuation\n",
    "\n",
    "class PrintableFunction(StringFunction):\n",
    "    def get_string(self):\n",
    "        return string.printable\n",
    "\n",
    "class WhiteSpaceFunction(StringFunction):\n",
    "    def get_string(self):\n",
    "        return string.whitespace\n",
    "\n",
    "# Create instances of the subclasses\n",
    "letters_func = LettersFunction()\n",
    "letters_lower_func = LettersLowerCaseFunction()\n",
    "letters_upper_func = LettersUpperCaseFunction()\n",
    "digits_func = DigitsFunction()\n",
    "hex_digits_func = HexDigitsFunction()\n",
    "oct_digits_func = OctDigitsFunction()\n",
    "punct_func = PunctuationFunction()\n",
    "printable_func = PrintableFunction()\n",
    "white_space_func = WhiteSpaceFunction()\n",
    "\n",
    "# Call the get_string method on each instance\n",
    "print(letters_func.get_string())\n",
    "print(letters_lower_func.get_string())\n",
    "print(letters_upper_func.get_string())\n",
    "print(digits_func.get_string())\n",
    "print(hex_digits_func.get_string())\n",
    "print(oct_digits_func.get_string())\n",
    "print(punct_func.get_string())\n",
    "print(printable_func.get_string())\n",
    "print(white_space_func.get_string())"
   ]
  },
  {
   "cell_type": "markdown",
   "id": "004985e0",
   "metadata": {},
   "source": [
    "### By using Inheritance"
   ]
  },
  {
   "cell_type": "code",
   "execution_count": 14,
   "id": "1786aa8c",
   "metadata": {},
   "outputs": [
    {
     "name": "stdout",
     "output_type": "stream",
     "text": [
      "abcdefghijklmnopqrstuvwxyzABCDEFGHIJKLMNOPQRSTUVWXYZ\n",
      "abcdefghijklmnopqrstuvwxyz\n",
      "ABCDEFGHIJKLMNOPQRSTUVWXYZ\n",
      "0123456789\n",
      "0123456789abcdefABCDEF\n",
      "01234567\n",
      "!\"#$%&'()*+,-./:;<=>?@[\\]^_`{|}~\n",
      "0123456789abcdefghijklmnopqrstuvwxyzABCDEFGHIJKLMNOPQRSTUVWXYZ!\"#$%&'()*+,-./:;<=>?@[\\]^_`{|}~ \t\n",
      "\u000b",
      "\f",
      "\n",
      " \t\n",
      "\u000b",
      "\f",
      "\n"
     ]
    }
   ],
   "source": [
    "import string\n",
    "\n",
    "class StringFunctions:\n",
    "    def __init__(self):\n",
    "        pass\n",
    "\n",
    "class LettersFunction(StringFunctions):\n",
    "    def __init__(self):\n",
    "        super().__init__()\n",
    "        self.letters = string.ascii_letters\n",
    "\n",
    "class LettersLowerCaseFunction(StringFunctions):\n",
    "    def __init__(self):\n",
    "        super().__init__()\n",
    "        self.letters1 = string.ascii_lowercase\n",
    "\n",
    "class LettersUpperCaseFunction(StringFunctions):\n",
    "    def __init__(self):\n",
    "        super().__init__()\n",
    "        self.letters2 = string.ascii_uppercase\n",
    "\n",
    "class DigitsFunction(StringFunctions):\n",
    "    def __init__(self):\n",
    "        super().__init__()\n",
    "        self.digits = string.digits\n",
    "\n",
    "class HexDigitsFunction(StringFunctions):\n",
    "    def __init__(self):\n",
    "        super().__init__()\n",
    "        self.hex_digits = string.hexdigits\n",
    "\n",
    "class OctDigitsFunction(StringFunctions):\n",
    "    def __init__(self):\n",
    "        super().__init__()\n",
    "        self.oct_digits = string.octdigits\n",
    "\n",
    "class PunctuationFunction(StringFunctions):\n",
    "    def __init__(self):\n",
    "        super().__init__()\n",
    "        self.punct = string.punctuation\n",
    "\n",
    "class PrintableFunction(StringFunctions):\n",
    "    def __init__(self):\n",
    "        super().__init__()\n",
    "        self.printable = string.printable\n",
    "\n",
    "class WhiteSpaceFunction(StringFunctions):\n",
    "    def __init__(self):\n",
    "        super().__init__()\n",
    "        self.white_space = string.whitespace\n",
    "\n",
    "# Create instances of the subclasses\n",
    "letters_func = LettersFunction()\n",
    "letters_lower_func = LettersLowerCaseFunction()\n",
    "letters_upper_func = LettersUpperCaseFunction()\n",
    "digits_func = DigitsFunction()\n",
    "hex_digits_func = HexDigitsFunction()\n",
    "oct_digits_func = OctDigitsFunction()\n",
    "punct_func = PunctuationFunction()\n",
    "printable_func = PrintableFunction()\n",
    "white_space_func = WhiteSpaceFunction()\n",
    "\n",
    "# Access the attributes of each instance\n",
    "print(letters_func.letters)\n",
    "print(letters_lower_func.letters1)\n",
    "print(letters_upper_func.letters2)\n",
    "print(digits_func.digits)\n",
    "print(hex_digits_func.hex_digits)\n",
    "print(oct_digits_func.oct_digits)\n",
    "print(punct_func.punct)\n",
    "print(printable_func.printable)\n",
    "print(white_space_func.white_space)"
   ]
  },
  {
   "cell_type": "code",
   "execution_count": null,
   "id": "b62a0248",
   "metadata": {},
   "outputs": [],
   "source": []
  }
 ],
 "metadata": {
  "kernelspec": {
   "display_name": "Python 3 (ipykernel)",
   "language": "python",
   "name": "python3"
  },
  "language_info": {
   "codemirror_mode": {
    "name": "ipython",
    "version": 3
   },
   "file_extension": ".py",
   "mimetype": "text/x-python",
   "name": "python",
   "nbconvert_exporter": "python",
   "pygments_lexer": "ipython3",
   "version": "3.10.11"
  }
 },
 "nbformat": 4,
 "nbformat_minor": 5
}
